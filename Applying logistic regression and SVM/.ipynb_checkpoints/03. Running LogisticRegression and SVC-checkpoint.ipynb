{
 "cells": [
  {
   "cell_type": "markdown",
   "metadata": {},
   "source": [
    "In this exercise, you'll apply logistic regression and a support vector machine to classify images of handwritten digits.\n",
    "\n",
    "Instructions\n",
    "\n",
    "* Apply logistic regression and SVM (using SVC()) to the handwritten digits data set using the provided train/validation split.\n",
    "* For each classifier, print out the training and validation accuracy."
   ]
  },
  {
   "cell_type": "code",
   "execution_count": 4,
   "metadata": {},
   "outputs": [
    {
     "name": "stdout",
     "output_type": "stream",
     "text": [
      "[0 5 6 5 6 1 6 0 9 4 2 4 5 9 2 7 8 0 7 9 7 3 1 4 6 4 5 5 0 6 8 2 2 6 2 4 7\n",
      " 1 0 6 3 4 0 3 4 3 3 2 7 8 9 2 4 9 1 5 8 4 3 9 1 2 7 5 1 7 3 8 5 5 9 4 3 3\n",
      " 9 7 3 2 8 5 0 3 7 1 7 2 5 9 7 7 7 7 3 7 4 2 1 6 7 0 3 2 3 5 8 6 6 3 0 6 0\n",
      " 3 0 1 0 1 9 6 9 4 1 2 5 9 0 2 2 0 4 8 9 0 7 7 7 8 0 0 2 7 1 1 3 6 3 2 2 2\n",
      " 4 8 7 8 3 4 4 3 7 5 3 2 3 7 1 4 9 7 9 0 4 0 2 6 9 3 6 6 9 1 6 8 8 1 3 1 1\n",
      " 7 3 9 9 0 2 2 9 7 5 8 0 7 4 6 9 1 8 8 1 0 2 0 6 8 5 3 7 1 1 7 0 6 3 1 2 4\n",
      " 1 9 6 2 0 2 2 7 7 9 1 4 1 5 4 9 3 9 8 5 6 7 2 5 4 7 1 6 1 2 9 1 1 0 1 2 2\n",
      " 9 6 8 1 6 7 3 8 8 5 5 9 4 2 3 6 5 6 4 1 5 2 8 5 7 0 9 9 0 9 8 7 1 2 6 3 8\n",
      " 9 9 1 7 5 4 7 8 9 6 7 7 7 3 2 6 0 7 9 6 5 2 9 8 7 1 1 4 5 1 3 8 9 5 4 9 3\n",
      " 3 4 5 4 4 9 0 4 9 7 6 8 6 1 2 6 8 7 7 5 1 4 1 4 4 3 1 2 5 6 0 9 7 3 2 7 6\n",
      " 0 6 3 1 8 7 1 2 6 6 0 4 2 1 9 0 5 7 6 7 0 1 8 4 3 7 0 9 5 9 7 5 3 8 0 0 8\n",
      " 2 3 1 9 0 9 9 2 9 8 8 9 8 2 7 2 9 0 0 1 6 6 7 7 1 7 5 0 6 3 1 0 5 9 5 9 9\n",
      " 8 3 9 3 9 4]\n",
      "0.9577777777777777\n",
      "[0 5 6 5 6 5 6 0 9 4 2 4 5 9 2 7 8 0 7 9 7 3 4 4 6 4 5 5 0 6 8 2 2 6 8 4 7\n",
      " 1 0 6 3 4 0 3 4 3 3 2 7 8 9 2 5 9 1 5 8 4 3 9 1 2 7 5 8 7 3 8 5 5 9 4 3 3\n",
      " 9 7 3 2 8 5 0 3 7 1 7 2 5 9 7 7 7 7 3 7 4 2 1 6 7 0 3 2 3 5 8 6 6 3 0 6 0\n",
      " 3 0 1 0 1 9 6 9 4 1 2 5 9 0 2 2 0 4 8 9 0 7 7 7 8 0 0 2 7 1 1 3 6 3 2 2 2\n",
      " 4 8 7 8 3 4 4 3 7 5 3 2 3 7 1 4 9 7 9 0 4 0 2 6 9 3 6 6 9 1 6 8 8 1 3 1 1\n",
      " 7 3 9 9 0 2 2 9 7 5 8 0 7 4 6 9 1 8 8 1 0 2 0 6 8 5 3 7 1 1 7 0 6 3 1 2 4\n",
      " 1 7 6 2 0 2 2 7 7 9 1 4 1 5 4 9 3 5 8 5 6 7 2 5 4 4 1 6 1 2 9 1 1 0 1 2 2\n",
      " 9 6 8 1 6 7 3 8 8 5 5 9 4 2 3 6 5 6 4 1 5 2 8 5 7 0 9 9 0 9 8 7 1 2 6 3 8\n",
      " 9 9 1 7 5 4 7 8 7 6 7 7 7 3 2 6 0 7 9 6 5 2 8 8 7 5 1 4 5 1 3 8 9 5 4 9 3\n",
      " 3 4 5 4 4 9 0 4 9 7 6 8 6 1 2 6 8 7 7 5 1 4 6 4 4 3 1 2 5 6 0 9 7 3 2 7 6\n",
      " 0 6 3 1 8 7 1 2 6 6 0 4 2 1 9 0 5 7 6 7 0 1 8 4 3 7 0 9 5 9 7 5 3 8 0 0 8\n",
      " 2 3 1 9 0 9 9 2 9 8 8 9 8 2 7 2 9 0 0 1 6 6 7 7 1 7 5 0 6 5 1 0 5 9 5 3 9\n",
      " 8 3 9 3 9 4]\n",
      "0.9777777777777777\n"
     ]
    },
    {
     "name": "stderr",
     "output_type": "stream",
     "text": [
      "C:\\Users\\shakib\\Anaconda3\\lib\\site-packages\\sklearn\\linear_model\\_logistic.py:939: ConvergenceWarning: lbfgs failed to converge (status=1):\n",
      "STOP: TOTAL NO. of ITERATIONS REACHED LIMIT.\n",
      "\n",
      "Increase the number of iterations (max_iter) or scale the data as shown in:\n",
      "    https://scikit-learn.org/stable/modules/preprocessing.html.\n",
      "Please also refer to the documentation for alternative solver options:\n",
      "    https://scikit-learn.org/stable/modules/linear_model.html#logistic-regression\n",
      "  extra_warning_msg=_LOGISTIC_SOLVER_CONVERGENCE_MSG)\n"
     ]
    }
   ],
   "source": [
    "from sklearn import datasets\n",
    "from sklearn.model_selection import train_test_split\n",
    "from sklearn.linear_model import LogisticRegression\n",
    "from sklearn.svm import SVC\n",
    "\n",
    "\n",
    "digits = datasets.load_digits()\n",
    "X_train, X_test, y_train, y_test = train_test_split(digits.data, digits.target)\n",
    "\n",
    "# Apply logistic regression and print scores\n",
    "lr = LogisticRegression()\n",
    "lr.fit(X_train,y_train)\n",
    "print(lr.predict(X_test))\n",
    "print(lr.score(X_test, y_test))\n",
    "\n",
    "# Apply SVM and print scores\n",
    "svm = SVC()\n",
    "svm.fit(X_train,y_train)\n",
    "print(svm.predict(X_test))\n",
    "print(svm.score(X_test, y_test))"
   ]
  },
  {
   "cell_type": "code",
   "execution_count": 5,
   "metadata": {},
   "outputs": [
    {
     "name": "stdout",
     "output_type": "stream",
     "text": [
      "1.0\n",
      "0.9644444444444444\n",
      "0.9888888888888889\n"
     ]
    },
    {
     "name": "stderr",
     "output_type": "stream",
     "text": [
      "C:\\Users\\shakib\\Anaconda3\\lib\\site-packages\\sklearn\\linear_model\\_logistic.py:939: ConvergenceWarning: lbfgs failed to converge (status=1):\n",
      "STOP: TOTAL NO. of ITERATIONS REACHED LIMIT.\n",
      "\n",
      "Increase the number of iterations (max_iter) or scale the data as shown in:\n",
      "    https://scikit-learn.org/stable/modules/preprocessing.html.\n",
      "Please also refer to the documentation for alternative solver options:\n",
      "    https://scikit-learn.org/stable/modules/linear_model.html#logistic-regression\n",
      "  extra_warning_msg=_LOGISTIC_SOLVER_CONVERGENCE_MSG)\n"
     ]
    }
   ],
   "source": [
    "from sklearn import datasets\n",
    "digits = datasets.load_digits()\n",
    "X_train, X_test, y_train, y_test = train_test_split(digits.data, digits.target)\n",
    "\n",
    "# Apply logistic regression and print scores\n",
    "lr = LogisticRegression()\n",
    "lr.fit(X_train,y_train)\n",
    "print(lr.score(X_train,y_train))\n",
    "print(lr.score(X_test, y_test))\n",
    "\n",
    "# Apply SVM and print scores\n",
    "svm = SVC()\n",
    "svm.fit(X_train,y_train)\n",
    "#print(svm.score(X_train,y_train))\n",
    "print(svm.score(X_test, y_test))"
   ]
  }
 ],
 "metadata": {
  "kernelspec": {
   "display_name": "Python 3",
   "language": "python",
   "name": "python3"
  },
  "language_info": {
   "codemirror_mode": {
    "name": "ipython",
    "version": 3
   },
   "file_extension": ".py",
   "mimetype": "text/x-python",
   "name": "python",
   "nbconvert_exporter": "python",
   "pygments_lexer": "ipython3",
   "version": "3.7.0"
  }
 },
 "nbformat": 4,
 "nbformat_minor": 2
}
